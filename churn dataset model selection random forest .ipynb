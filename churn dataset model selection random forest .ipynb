{
 "cells": [
  {
   "cell_type": "code",
   "execution_count": 1,
   "id": "cfbbed32",
   "metadata": {},
   "outputs": [],
   "source": [
    "import pandas as pd \n",
    "import numpy as np\n",
    "import matplotlib.pyplot as plt\n",
    "import plotly\n",
    "import squarify\n",
    "import plotly.graph_objs as go \n",
    "import plotly.offline as pyoff\n",
    "import plotly.figure_factory as ff\n",
    "from plotly.offline import init_notebook_mode, iplot, plot\n",
    "from sklearn.preprocessing  import OneHotEncoder\n",
    "from sklearn import tree \n",
    "from sklearn.ensemble import RandomForestClassifier\n",
    "from sklearn.model_selection import train_test_split\n",
    "from sklearn.metrics import confusion_matrix\n",
    "import seaborn as sns\n",
    "from sklearn.feature_selection import RFE\n",
    "from sklearn.preprocessing import LabelEncoder\n",
    "from sklearn import svm\n",
    "from sklearn.linear_model import LogisticRegression\n",
    "from sklearn.model_selection import GridSearchCV\n",
    "from sklearn import metrics\n",
    "from sklearn.preprocessing import MinMaxScaler\n",
    "from sklearn.model_selection import RandomizedSearchCV\n",
    "from imblearn.over_sampling import SMOTE"
   ]
  },
  {
   "cell_type": "code",
   "execution_count": 2,
   "id": "d30542a7",
   "metadata": {},
   "outputs": [],
   "source": [
    "import xgboost as xgb"
   ]
  },
  {
   "cell_type": "code",
   "execution_count": 3,
   "id": "2361ceef",
   "metadata": {},
   "outputs": [],
   "source": [
    "data=pd.read_csv(\"Customer-Churn-Records (1).csv\")"
   ]
  },
  {
   "cell_type": "code",
   "execution_count": 4,
   "id": "f48ccfc5",
   "metadata": {
    "scrolled": true
   },
   "outputs": [
    {
     "data": {
      "text/plain": [
       "0    7962\n",
       "1    2038\n",
       "Name: Exited, dtype: int64"
      ]
     },
     "execution_count": 4,
     "metadata": {},
     "output_type": "execute_result"
    }
   ],
   "source": [
    "target_var=data['Exited']\n",
    "target_var.value_counts()\n"
   ]
  },
  {
   "cell_type": "code",
   "execution_count": null,
   "id": "700e30db",
   "metadata": {},
   "outputs": [],
   "source": []
  },
  {
   "cell_type": "code",
   "execution_count": 5,
   "id": "f8286734",
   "metadata": {},
   "outputs": [
    {
     "data": {
      "text/plain": [
       "(10000, 18)"
      ]
     },
     "execution_count": 5,
     "metadata": {},
     "output_type": "execute_result"
    }
   ],
   "source": [
    "data.shape"
   ]
  },
  {
   "cell_type": "code",
   "execution_count": 6,
   "id": "a048aede",
   "metadata": {},
   "outputs": [
    {
     "data": {
      "text/html": [
       "<div>\n",
       "<style scoped>\n",
       "    .dataframe tbody tr th:only-of-type {\n",
       "        vertical-align: middle;\n",
       "    }\n",
       "\n",
       "    .dataframe tbody tr th {\n",
       "        vertical-align: top;\n",
       "    }\n",
       "\n",
       "    .dataframe thead th {\n",
       "        text-align: right;\n",
       "    }\n",
       "</style>\n",
       "<table border=\"1\" class=\"dataframe\">\n",
       "  <thead>\n",
       "    <tr style=\"text-align: right;\">\n",
       "      <th></th>\n",
       "      <th>RowNumber</th>\n",
       "      <th>CustomerId</th>\n",
       "      <th>Surname</th>\n",
       "      <th>CreditScore</th>\n",
       "      <th>Geography</th>\n",
       "      <th>Gender</th>\n",
       "      <th>Age</th>\n",
       "      <th>Tenure</th>\n",
       "      <th>Balance</th>\n",
       "      <th>NumOfProducts</th>\n",
       "      <th>HasCrCard</th>\n",
       "      <th>IsActiveMember</th>\n",
       "      <th>EstimatedSalary</th>\n",
       "      <th>Exited</th>\n",
       "      <th>Complain</th>\n",
       "      <th>Satisfaction Score</th>\n",
       "      <th>Card Type</th>\n",
       "      <th>Point Earned</th>\n",
       "    </tr>\n",
       "  </thead>\n",
       "  <tbody>\n",
       "    <tr>\n",
       "      <th>count</th>\n",
       "      <td>10000.00000</td>\n",
       "      <td>1.000000e+04</td>\n",
       "      <td>10000</td>\n",
       "      <td>10000.000000</td>\n",
       "      <td>10000</td>\n",
       "      <td>10000</td>\n",
       "      <td>10000.000000</td>\n",
       "      <td>10000.000000</td>\n",
       "      <td>10000.000000</td>\n",
       "      <td>10000.000000</td>\n",
       "      <td>10000.00000</td>\n",
       "      <td>10000.000000</td>\n",
       "      <td>10000.000000</td>\n",
       "      <td>10000.000000</td>\n",
       "      <td>10000.000000</td>\n",
       "      <td>10000.000000</td>\n",
       "      <td>10000</td>\n",
       "      <td>10000.000000</td>\n",
       "    </tr>\n",
       "    <tr>\n",
       "      <th>unique</th>\n",
       "      <td>NaN</td>\n",
       "      <td>NaN</td>\n",
       "      <td>2932</td>\n",
       "      <td>NaN</td>\n",
       "      <td>3</td>\n",
       "      <td>2</td>\n",
       "      <td>NaN</td>\n",
       "      <td>NaN</td>\n",
       "      <td>NaN</td>\n",
       "      <td>NaN</td>\n",
       "      <td>NaN</td>\n",
       "      <td>NaN</td>\n",
       "      <td>NaN</td>\n",
       "      <td>NaN</td>\n",
       "      <td>NaN</td>\n",
       "      <td>NaN</td>\n",
       "      <td>4</td>\n",
       "      <td>NaN</td>\n",
       "    </tr>\n",
       "    <tr>\n",
       "      <th>top</th>\n",
       "      <td>NaN</td>\n",
       "      <td>NaN</td>\n",
       "      <td>Smith</td>\n",
       "      <td>NaN</td>\n",
       "      <td>France</td>\n",
       "      <td>Male</td>\n",
       "      <td>NaN</td>\n",
       "      <td>NaN</td>\n",
       "      <td>NaN</td>\n",
       "      <td>NaN</td>\n",
       "      <td>NaN</td>\n",
       "      <td>NaN</td>\n",
       "      <td>NaN</td>\n",
       "      <td>NaN</td>\n",
       "      <td>NaN</td>\n",
       "      <td>NaN</td>\n",
       "      <td>DIAMOND</td>\n",
       "      <td>NaN</td>\n",
       "    </tr>\n",
       "    <tr>\n",
       "      <th>freq</th>\n",
       "      <td>NaN</td>\n",
       "      <td>NaN</td>\n",
       "      <td>32</td>\n",
       "      <td>NaN</td>\n",
       "      <td>5014</td>\n",
       "      <td>5457</td>\n",
       "      <td>NaN</td>\n",
       "      <td>NaN</td>\n",
       "      <td>NaN</td>\n",
       "      <td>NaN</td>\n",
       "      <td>NaN</td>\n",
       "      <td>NaN</td>\n",
       "      <td>NaN</td>\n",
       "      <td>NaN</td>\n",
       "      <td>NaN</td>\n",
       "      <td>NaN</td>\n",
       "      <td>2507</td>\n",
       "      <td>NaN</td>\n",
       "    </tr>\n",
       "    <tr>\n",
       "      <th>mean</th>\n",
       "      <td>5000.50000</td>\n",
       "      <td>1.569094e+07</td>\n",
       "      <td>NaN</td>\n",
       "      <td>650.528800</td>\n",
       "      <td>NaN</td>\n",
       "      <td>NaN</td>\n",
       "      <td>38.921800</td>\n",
       "      <td>5.012800</td>\n",
       "      <td>76485.889288</td>\n",
       "      <td>1.530200</td>\n",
       "      <td>0.70550</td>\n",
       "      <td>0.515100</td>\n",
       "      <td>100090.239881</td>\n",
       "      <td>0.203800</td>\n",
       "      <td>0.204400</td>\n",
       "      <td>3.013800</td>\n",
       "      <td>NaN</td>\n",
       "      <td>606.515100</td>\n",
       "    </tr>\n",
       "    <tr>\n",
       "      <th>std</th>\n",
       "      <td>2886.89568</td>\n",
       "      <td>7.193619e+04</td>\n",
       "      <td>NaN</td>\n",
       "      <td>96.653299</td>\n",
       "      <td>NaN</td>\n",
       "      <td>NaN</td>\n",
       "      <td>10.487806</td>\n",
       "      <td>2.892174</td>\n",
       "      <td>62397.405202</td>\n",
       "      <td>0.581654</td>\n",
       "      <td>0.45584</td>\n",
       "      <td>0.499797</td>\n",
       "      <td>57510.492818</td>\n",
       "      <td>0.402842</td>\n",
       "      <td>0.403283</td>\n",
       "      <td>1.405919</td>\n",
       "      <td>NaN</td>\n",
       "      <td>225.924839</td>\n",
       "    </tr>\n",
       "    <tr>\n",
       "      <th>min</th>\n",
       "      <td>1.00000</td>\n",
       "      <td>1.556570e+07</td>\n",
       "      <td>NaN</td>\n",
       "      <td>350.000000</td>\n",
       "      <td>NaN</td>\n",
       "      <td>NaN</td>\n",
       "      <td>18.000000</td>\n",
       "      <td>0.000000</td>\n",
       "      <td>0.000000</td>\n",
       "      <td>1.000000</td>\n",
       "      <td>0.00000</td>\n",
       "      <td>0.000000</td>\n",
       "      <td>11.580000</td>\n",
       "      <td>0.000000</td>\n",
       "      <td>0.000000</td>\n",
       "      <td>1.000000</td>\n",
       "      <td>NaN</td>\n",
       "      <td>119.000000</td>\n",
       "    </tr>\n",
       "    <tr>\n",
       "      <th>25%</th>\n",
       "      <td>2500.75000</td>\n",
       "      <td>1.562853e+07</td>\n",
       "      <td>NaN</td>\n",
       "      <td>584.000000</td>\n",
       "      <td>NaN</td>\n",
       "      <td>NaN</td>\n",
       "      <td>32.000000</td>\n",
       "      <td>3.000000</td>\n",
       "      <td>0.000000</td>\n",
       "      <td>1.000000</td>\n",
       "      <td>0.00000</td>\n",
       "      <td>0.000000</td>\n",
       "      <td>51002.110000</td>\n",
       "      <td>0.000000</td>\n",
       "      <td>0.000000</td>\n",
       "      <td>2.000000</td>\n",
       "      <td>NaN</td>\n",
       "      <td>410.000000</td>\n",
       "    </tr>\n",
       "    <tr>\n",
       "      <th>50%</th>\n",
       "      <td>5000.50000</td>\n",
       "      <td>1.569074e+07</td>\n",
       "      <td>NaN</td>\n",
       "      <td>652.000000</td>\n",
       "      <td>NaN</td>\n",
       "      <td>NaN</td>\n",
       "      <td>37.000000</td>\n",
       "      <td>5.000000</td>\n",
       "      <td>97198.540000</td>\n",
       "      <td>1.000000</td>\n",
       "      <td>1.00000</td>\n",
       "      <td>1.000000</td>\n",
       "      <td>100193.915000</td>\n",
       "      <td>0.000000</td>\n",
       "      <td>0.000000</td>\n",
       "      <td>3.000000</td>\n",
       "      <td>NaN</td>\n",
       "      <td>605.000000</td>\n",
       "    </tr>\n",
       "    <tr>\n",
       "      <th>75%</th>\n",
       "      <td>7500.25000</td>\n",
       "      <td>1.575323e+07</td>\n",
       "      <td>NaN</td>\n",
       "      <td>718.000000</td>\n",
       "      <td>NaN</td>\n",
       "      <td>NaN</td>\n",
       "      <td>44.000000</td>\n",
       "      <td>7.000000</td>\n",
       "      <td>127644.240000</td>\n",
       "      <td>2.000000</td>\n",
       "      <td>1.00000</td>\n",
       "      <td>1.000000</td>\n",
       "      <td>149388.247500</td>\n",
       "      <td>0.000000</td>\n",
       "      <td>0.000000</td>\n",
       "      <td>4.000000</td>\n",
       "      <td>NaN</td>\n",
       "      <td>801.000000</td>\n",
       "    </tr>\n",
       "    <tr>\n",
       "      <th>max</th>\n",
       "      <td>10000.00000</td>\n",
       "      <td>1.581569e+07</td>\n",
       "      <td>NaN</td>\n",
       "      <td>850.000000</td>\n",
       "      <td>NaN</td>\n",
       "      <td>NaN</td>\n",
       "      <td>92.000000</td>\n",
       "      <td>10.000000</td>\n",
       "      <td>250898.090000</td>\n",
       "      <td>4.000000</td>\n",
       "      <td>1.00000</td>\n",
       "      <td>1.000000</td>\n",
       "      <td>199992.480000</td>\n",
       "      <td>1.000000</td>\n",
       "      <td>1.000000</td>\n",
       "      <td>5.000000</td>\n",
       "      <td>NaN</td>\n",
       "      <td>1000.000000</td>\n",
       "    </tr>\n",
       "  </tbody>\n",
       "</table>\n",
       "</div>"
      ],
      "text/plain": [
       "          RowNumber    CustomerId Surname   CreditScore Geography Gender  \\\n",
       "count   10000.00000  1.000000e+04   10000  10000.000000     10000  10000   \n",
       "unique          NaN           NaN    2932           NaN         3      2   \n",
       "top             NaN           NaN   Smith           NaN    France   Male   \n",
       "freq            NaN           NaN      32           NaN      5014   5457   \n",
       "mean     5000.50000  1.569094e+07     NaN    650.528800       NaN    NaN   \n",
       "std      2886.89568  7.193619e+04     NaN     96.653299       NaN    NaN   \n",
       "min         1.00000  1.556570e+07     NaN    350.000000       NaN    NaN   \n",
       "25%      2500.75000  1.562853e+07     NaN    584.000000       NaN    NaN   \n",
       "50%      5000.50000  1.569074e+07     NaN    652.000000       NaN    NaN   \n",
       "75%      7500.25000  1.575323e+07     NaN    718.000000       NaN    NaN   \n",
       "max     10000.00000  1.581569e+07     NaN    850.000000       NaN    NaN   \n",
       "\n",
       "                 Age        Tenure        Balance  NumOfProducts    HasCrCard  \\\n",
       "count   10000.000000  10000.000000   10000.000000   10000.000000  10000.00000   \n",
       "unique           NaN           NaN            NaN            NaN          NaN   \n",
       "top              NaN           NaN            NaN            NaN          NaN   \n",
       "freq             NaN           NaN            NaN            NaN          NaN   \n",
       "mean       38.921800      5.012800   76485.889288       1.530200      0.70550   \n",
       "std        10.487806      2.892174   62397.405202       0.581654      0.45584   \n",
       "min        18.000000      0.000000       0.000000       1.000000      0.00000   \n",
       "25%        32.000000      3.000000       0.000000       1.000000      0.00000   \n",
       "50%        37.000000      5.000000   97198.540000       1.000000      1.00000   \n",
       "75%        44.000000      7.000000  127644.240000       2.000000      1.00000   \n",
       "max        92.000000     10.000000  250898.090000       4.000000      1.00000   \n",
       "\n",
       "        IsActiveMember  EstimatedSalary        Exited      Complain  \\\n",
       "count     10000.000000     10000.000000  10000.000000  10000.000000   \n",
       "unique             NaN              NaN           NaN           NaN   \n",
       "top                NaN              NaN           NaN           NaN   \n",
       "freq               NaN              NaN           NaN           NaN   \n",
       "mean          0.515100    100090.239881      0.203800      0.204400   \n",
       "std           0.499797     57510.492818      0.402842      0.403283   \n",
       "min           0.000000        11.580000      0.000000      0.000000   \n",
       "25%           0.000000     51002.110000      0.000000      0.000000   \n",
       "50%           1.000000    100193.915000      0.000000      0.000000   \n",
       "75%           1.000000    149388.247500      0.000000      0.000000   \n",
       "max           1.000000    199992.480000      1.000000      1.000000   \n",
       "\n",
       "        Satisfaction Score Card Type  Point Earned  \n",
       "count         10000.000000     10000  10000.000000  \n",
       "unique                 NaN         4           NaN  \n",
       "top                    NaN   DIAMOND           NaN  \n",
       "freq                   NaN      2507           NaN  \n",
       "mean              3.013800       NaN    606.515100  \n",
       "std               1.405919       NaN    225.924839  \n",
       "min               1.000000       NaN    119.000000  \n",
       "25%               2.000000       NaN    410.000000  \n",
       "50%               3.000000       NaN    605.000000  \n",
       "75%               4.000000       NaN    801.000000  \n",
       "max               5.000000       NaN   1000.000000  "
      ]
     },
     "execution_count": 6,
     "metadata": {},
     "output_type": "execute_result"
    }
   ],
   "source": [
    "data.isnull().any()\n",
    "data.describe(include='all')"
   ]
  },
  {
   "cell_type": "code",
   "execution_count": 7,
   "id": "73436d7d",
   "metadata": {},
   "outputs": [],
   "source": [
    "col_name=data.columns"
   ]
  },
  {
   "cell_type": "code",
   "execution_count": 8,
   "id": "16e759dd",
   "metadata": {},
   "outputs": [
    {
     "name": "stdout",
     "output_type": "stream",
     "text": [
      "number of unique :RowNumber\n",
      "10000\n",
      " uniquevalues \n",
      "[    1     2     3 ...  9998  9999 10000]\n",
      "---------------------- \n",
      "\n",
      "number of unique :CustomerId\n",
      "10000\n",
      " uniquevalues \n",
      "[15634602 15647311 15619304 ... 15584532 15682355 15628319]\n",
      "---------------------- \n",
      "\n",
      "number of unique :Surname\n",
      "2932\n",
      " uniquevalues \n",
      "['Hargrave' 'Hill' 'Onio' ... 'Kashiwagi' 'Aldridge' 'Burbidge']\n",
      "---------------------- \n",
      "\n",
      "number of unique :CreditScore\n",
      "460\n",
      " uniquevalues \n",
      "[619 608 502 699 850 645 822 376 501 684 528 497 476 549 635 616 653 587\n",
      " 726 732 636 510 669 846 577 756 571 574 411 591 533 553 520 722 475 490\n",
      " 804 582 472 465 556 834 660 776 829 637 550 698 585 788 655 601 656 725\n",
      " 511 614 742 687 555 603 751 581 735 661 675 738 813 657 604 519 664 678\n",
      " 757 416 665 777 543 506 493 652 750 729 646 647 808 524 769 730 515 773\n",
      " 814 710 413 623 670 622 785 605 479 685 538 562 721 628 668 828 674 625\n",
      " 432 770 758 795 686 789 589 461 584 579 663 682 793 691 485 650 754 535\n",
      " 716 539 706 586 631 717 800 683 704 615 667 484 480 578 512 606 597 778\n",
      " 514 525 715 580 807 521 759 516 711 618 643 671 689 620 676 572 695 592\n",
      " 567 694 547 594 673 610 767 763 712 703 662 659 523 772 545 634 739 771\n",
      " 681 544 696 766 727 693 557 531 498 651 791 733 811 707 714 782 775 799\n",
      " 602 744 588 747 583 627 731 629 438 642 806 474 559 429 680 749 734 644\n",
      " 626 649 805 718 840 630 654 762 568 613 522 737 648 443 640 540 460 593\n",
      " 801 611 802 745 483 690 492 709 705 560 752 701 537 487 596 702 486 724\n",
      " 548 464 790 534 748 494 590 468 509 818 816 536 753 774 621 569 658 798\n",
      " 641 542 692 639 765 570 638 599 632 779 527 564 833 504 842 508 417 598\n",
      " 741 607 761 848 546 439 755 760 526 713 700 666 566 495 688 612 477 427\n",
      " 839 819 720 459 503 624 529 563 482 796 445 746 786 554 672 787 499 844\n",
      " 450 815 838 803 736 633 600 679 517 792 743 488 421 841 708 507 505 456\n",
      " 435 561 518 565 728 784 552 609 764 697 723 551 444 719 496 541 830 812\n",
      " 677 420 595 617 809 500 826 434 513 478 797 363 399 463 780 452 575 837\n",
      " 794 824 428 823 781 849 489 431 457 768 831 359 820 573 576 558 817 449\n",
      " 440 415 821 530 350 446 425 740 481 783 358 845 451 458 469 423 404 836\n",
      " 473 835 466 491 351 827 843 365 532 414 453 471 401 810 832 470 447 422\n",
      " 825 430 436 426 408 847 418 437 410 454 407 455 462 386 405 383 395 467\n",
      " 433 442 424 448 441 367 412 382 373 419]\n",
      "---------------------- \n",
      "\n",
      "number of unique :Geography\n",
      "3\n",
      " uniquevalues \n",
      "['France' 'Spain' 'Germany']\n",
      "---------------------- \n",
      "\n",
      "number of unique :Gender\n",
      "2\n",
      " uniquevalues \n",
      "['Female' 'Male']\n",
      "---------------------- \n",
      "\n",
      "number of unique :Age\n",
      "70\n",
      " uniquevalues \n",
      "[42 41 39 43 44 50 29 27 31 24 34 25 35 45 58 32 38 46 36 33 40 51 61 49\n",
      " 37 19 66 56 26 21 55 75 22 30 28 65 48 52 57 73 47 54 72 20 67 79 62 53\n",
      " 80 59 68 23 60 70 63 64 18 82 69 74 71 76 77 88 85 84 78 81 92 83]\n",
      "---------------------- \n",
      "\n",
      "number of unique :Tenure\n",
      "11\n",
      " uniquevalues \n",
      "[ 2  1  8  7  4  6  3 10  5  9  0]\n",
      "---------------------- \n",
      "\n",
      "number of unique :Balance\n",
      "6382\n",
      " uniquevalues \n",
      "[     0.    83807.86 159660.8  ...  57369.61  75075.31 130142.79]\n",
      "---------------------- \n",
      "\n",
      "number of unique :NumOfProducts\n",
      "4\n",
      " uniquevalues \n",
      "[1 3 2 4]\n",
      "---------------------- \n",
      "\n",
      "number of unique :HasCrCard\n",
      "2\n",
      " uniquevalues \n",
      "[1 0]\n",
      "---------------------- \n",
      "\n",
      "number of unique :IsActiveMember\n",
      "2\n",
      " uniquevalues \n",
      "[1 0]\n",
      "---------------------- \n",
      "\n",
      "number of unique :EstimatedSalary\n",
      "9999\n",
      " uniquevalues \n",
      "[101348.88 112542.58 113931.57 ...  42085.58  92888.52  38190.78]\n",
      "---------------------- \n",
      "\n",
      "number of unique :Exited\n",
      "2\n",
      " uniquevalues \n",
      "[1 0]\n",
      "---------------------- \n",
      "\n",
      "number of unique :Complain\n",
      "2\n",
      " uniquevalues \n",
      "[1 0]\n",
      "---------------------- \n",
      "\n",
      "number of unique :Satisfaction Score\n",
      "5\n",
      " uniquevalues \n",
      "[2 3 5 4 1]\n",
      "---------------------- \n",
      "\n",
      "number of unique :Card Type\n",
      "4\n",
      " uniquevalues \n",
      "['DIAMOND' 'GOLD' 'SILVER' 'PLATINUM']\n",
      "---------------------- \n",
      "\n",
      "number of unique :Point Earned\n",
      "785\n",
      " uniquevalues \n",
      "[ 464  456  377  350  425  484  206  282  251  342  264  249  119  549\n",
      "  318  308  163  544  732  477  568  336  887  665  225  659  236  448\n",
      "  499  343  298  628  611  922  276  877  471  994  944  419  545  828\n",
      "  789  567  884  296  779  730  960  268  829  982  657  221  406  954\n",
      "  823  769  481  903  882  379  469  683  770  985  725  259  979  988\n",
      "  833  527  220  983  582  281  798  917  255  511  498  651  852  807\n",
      "  470  752  559  375  411  722  231  488  965  289  449  520  234  458\n",
      "  915  299  838  786  509  328  347  534  709  749  541  736  529  594\n",
      "  462  429  370  510  638  718  437  485  410  666  595  578  831  497\n",
      "  374  814  247  912  883  402  764  608  652  800  697  427  620  701\n",
      "  953  635  250  662  699  855  388  612  801  561  643  818  775  872\n",
      "  435  415  430  929  681  810  739  280  991  482  423  260  642  570\n",
      "  790  727  909  799  861  512  478  615  321  726  516  639  244  292\n",
      "  245  848  974  958  629  310  621  924  359  811  583  959  901  729\n",
      "  756  873  865  690  535  580  930  943  248  763  619  815  566  774\n",
      "  695  902  532  895  333  866  671  670  768  565  483  926  932  899\n",
      "  467  717  716  650  693  759  946  465  600  306  747  424  913  751\n",
      "  219  587  278  526  632  301  806  563  669  517  673  809  460  777\n",
      "  837  737  486  252  275  361  352  337  597  381  668  495  378  731\n",
      "  230  919  641  457  849  720  317  269  391  373  237  645  624  224\n",
      "  723  973  463  253  241  537  332  390  240  978  366  356  907  687\n",
      "  703  579  793  291  951  952  616  706  552  351  906  886  431  362\n",
      "  309  513  302  858  543  939  797  743  767  246  480  708  827  468\n",
      "  523  560  530  367  393  860  576  396  874  680  319  781  918  340\n",
      "  625  923  859  794  702  816  404  977  426  368  261  614  765  961\n",
      "  345  330  863  371  937  956  496  927  550  420  760  500  850  678\n",
      "  547  238  314  257  540  331  813  279  685  898  466  757  453  694\n",
      "  304  633  989  936  689  267  613  585  452  358  771  344  405  408\n",
      "  503  881  758  363  969  403  980  283  354  938  753  742  844  776\n",
      "  812  647  839  847  934  656  808  525  746  258  817  418  380  955\n",
      "  274  455  451  603  660  577  824  445  589  908  395  878  778  229\n",
      "  834  265  819  992  444  325  691  921  335  661  562  888  300  869\n",
      "  910  515  592  475  307  766  564  677  288  518  653  606  792  326\n",
      "  522  748  602  459  588  494  256  664  821  287  623  963  705  519\n",
      "  773  854  254  935  914  539  277  735  369  740  461  329  970  925\n",
      "  446  514  711  804  987  348  686  341  692  417  506  242  323  719\n",
      "  596  372  599  558  796  421  738  780  454  365  654  933  573  721\n",
      "  434  610  450  802  631  805  476  897  273  433  487  233  803  975\n",
      "  397  948  684  715  400  263  667  997  581  795  413  788  885  297\n",
      "  553  528  835  479  443  676  893  409  324  822  447  867  473  830\n",
      "  542  383  508  376  875  644  704  928  504  312  784  672  846  945\n",
      "  728  981  609  360  555  707  876  783  436  663  714  505  439  894\n",
      "  320  223  962  836  507  655  696  266  845  950  322  841  649  636\n",
      "  490  474  546  295  842  357  791  840  679  892  900  990  942  416\n",
      "  826  949  744  243  688  398  916  572 1000  574  591  674  353  870\n",
      "  940  993  843  998  472  905  710  533  785  334  598  327  232  586\n",
      "  226  305  984  634  593  389  538  995  618  724  584  889  712  303\n",
      "  733  920  761  285  964  311  911  501  851  972  440  346  239  750\n",
      "  493  284  741  601  338  658  871  931  999  271  502  700  536  626\n",
      "  957  428  966  968  313  227  637  856  432  698  896  986  412  385\n",
      "  976  590  524  407  825  904  575  734  548  489  868  879  675  648\n",
      "  853  640  832  622  384  627  441  521  967  607  339  880  364  682\n",
      "  556  401  762  864  862  947  604  293  890  442  891  394  569  316\n",
      "  222  782  438  630  387  551  315  386  755  557  349  605  754  772\n",
      "  617  262  492  399  272  382  554  971  531  857  286  491  290  941\n",
      "  270  294  787  422  235  355  646  571  392  820  414  745  713  228\n",
      "  996]\n",
      "---------------------- \n",
      "\n"
     ]
    }
   ],
   "source": [
    "for i in data.columns:\n",
    "    print (\"number of unique :{}\\n{}\\n uniquevalues \\n{}\".format(i,data[i].nunique(),data[i].unique()))\n",
    "    print (\"---------------------- \\n\")"
   ]
  },
  {
   "cell_type": "code",
   "execution_count": 9,
   "id": "5ad5a078",
   "metadata": {},
   "outputs": [],
   "source": [
    "unq=data[['RowNumber','CustomerId']]\n"
   ]
  },
  {
   "cell_type": "code",
   "execution_count": 10,
   "id": "89dd418b",
   "metadata": {},
   "outputs": [],
   "source": [
    "data=data.drop(['RowNumber','CustomerId','Complain'], axis =1)"
   ]
  },
  {
   "cell_type": "code",
   "execution_count": 11,
   "id": "c0273eaa",
   "metadata": {},
   "outputs": [],
   "source": [
    "data_cat=data.select_dtypes(include=['object'])\n",
    "data_numerical=data.select_dtypes(exclude=['object'])\n"
   ]
  },
  {
   "cell_type": "code",
   "execution_count": 12,
   "id": "7cd1d40f",
   "metadata": {},
   "outputs": [],
   "source": [
    "for i in data_numerical.columns:\n",
    "          if data_numerical[i].nunique()<15:\n",
    "            data_cat[i]= data_numerical[i]\n",
    "            data_numerical=data_numerical.drop(i,axis=1)"
   ]
  },
  {
   "cell_type": "code",
   "execution_count": 13,
   "id": "03cf7650",
   "metadata": {
    "scrolled": true
   },
   "outputs": [
    {
     "name": "stdout",
     "output_type": "stream",
     "text": [
      "        Surname Geography  Gender Card Type  Tenure  NumOfProducts  HasCrCard  \\\n",
      "0      Hargrave    France  Female   DIAMOND       2              1          1   \n",
      "1          Hill     Spain  Female   DIAMOND       1              1          0   \n",
      "2          Onio    France  Female   DIAMOND       8              3          1   \n",
      "3          Boni    France  Female      GOLD       1              2          0   \n",
      "4      Mitchell     Spain  Female      GOLD       2              1          1   \n",
      "...         ...       ...     ...       ...     ...            ...        ...   \n",
      "9995   Obijiaku    France    Male   DIAMOND       5              2          1   \n",
      "9996  Johnstone    France    Male  PLATINUM      10              1          1   \n",
      "9997        Liu    France  Female    SILVER       7              1          0   \n",
      "9998  Sabbatini   Germany    Male      GOLD       3              2          1   \n",
      "9999     Walker    France  Female   DIAMOND       4              1          1   \n",
      "\n",
      "      IsActiveMember  Exited  Satisfaction Score  \n",
      "0                  1       1                   2  \n",
      "1                  1       0                   3  \n",
      "2                  0       1                   3  \n",
      "3                  0       0                   5  \n",
      "4                  1       0                   5  \n",
      "...              ...     ...                 ...  \n",
      "9995               0       0                   1  \n",
      "9996               1       0                   5  \n",
      "9997               1       1                   3  \n",
      "9998               0       1                   2  \n",
      "9999               0       0                   3  \n",
      "\n",
      "[10000 rows x 10 columns]\n",
      "\n"
     ]
    }
   ],
   "source": [
    "#dataset=pd.get_dummies(columns=data_catco,data=data,drop_first=True,prefix='cata',prefix_sep='_')\n",
    "print(data_cat)\n",
    "print()"
   ]
  },
  {
   "cell_type": "code",
   "execution_count": 14,
   "id": "38f6a4b2",
   "metadata": {},
   "outputs": [
    {
     "name": "stdout",
     "output_type": "stream",
     "text": [
      "data_cat columns Index(['Surname', 'Geography', 'Gender', 'Card Type', 'Tenure',\n",
      "       'NumOfProducts', 'HasCrCard', 'IsActiveMember', 'Exited',\n",
      "       'Satisfaction Score'],\n",
      "      dtype='object') \n",
      "\n",
      "data_numerical columns Index(['CreditScore', 'Age', 'Balance', 'EstimatedSalary', 'Point Earned'], dtype='object')\n"
     ]
    }
   ],
   "source": [
    "print('data_cat columns',data_cat.columns,'\\n')\n",
    "print('data_numerical columns',data_numerical.columns)"
   ]
  },
  {
   "cell_type": "code",
   "execution_count": 15,
   "id": "26e54485",
   "metadata": {},
   "outputs": [],
   "source": [
    "encoder=LabelEncoder()\n",
    "data['Surname']=encoder.fit_transform(data['Surname'])\n",
    "\n",
    "\n",
    "\n",
    "\n",
    "\n",
    "\n",
    "\n",
    "col=data_cat.columns.drop(['Surname','Exited'])\n",
    "data=data.drop(['Exited'],axis=1)"
   ]
  },
  {
   "cell_type": "code",
   "execution_count": 16,
   "id": "12a347c0",
   "metadata": {},
   "outputs": [],
   "source": [
    "x=data.columns.drop(col)\n",
    "dataset=pd.DataFrame()\n",
    "dataset[x]=data[x]\n"
   ]
  },
  {
   "cell_type": "code",
   "execution_count": 17,
   "id": "5999426a",
   "metadata": {},
   "outputs": [],
   "source": [
    "for i in data[col]:\n",
    "    j=pd.get_dummies(data=data[i],drop_first=True,prefix='cata{}'.format(i),prefix_sep='_')\n",
    "    dataset=pd.concat([dataset,j],axis=1)"
   ]
  },
  {
   "cell_type": "code",
   "execution_count": 18,
   "id": "6828280d",
   "metadata": {},
   "outputs": [
    {
     "data": {
      "text/html": [
       "<div>\n",
       "<style scoped>\n",
       "    .dataframe tbody tr th:only-of-type {\n",
       "        vertical-align: middle;\n",
       "    }\n",
       "\n",
       "    .dataframe tbody tr th {\n",
       "        vertical-align: top;\n",
       "    }\n",
       "\n",
       "    .dataframe thead th {\n",
       "        text-align: right;\n",
       "    }\n",
       "</style>\n",
       "<table border=\"1\" class=\"dataframe\">\n",
       "  <thead>\n",
       "    <tr style=\"text-align: right;\">\n",
       "      <th></th>\n",
       "      <th>Surname</th>\n",
       "      <th>CreditScore</th>\n",
       "      <th>Age</th>\n",
       "      <th>Balance</th>\n",
       "      <th>EstimatedSalary</th>\n",
       "      <th>Point Earned</th>\n",
       "      <th>cataGeography_Germany</th>\n",
       "      <th>cataGeography_Spain</th>\n",
       "      <th>cataGender_Male</th>\n",
       "      <th>cataCard Type_GOLD</th>\n",
       "      <th>...</th>\n",
       "      <th>cataTenure_10</th>\n",
       "      <th>cataNumOfProducts_2</th>\n",
       "      <th>cataNumOfProducts_3</th>\n",
       "      <th>cataNumOfProducts_4</th>\n",
       "      <th>cataHasCrCard_1</th>\n",
       "      <th>cataIsActiveMember_1</th>\n",
       "      <th>cataSatisfaction Score_2</th>\n",
       "      <th>cataSatisfaction Score_3</th>\n",
       "      <th>cataSatisfaction Score_4</th>\n",
       "      <th>cataSatisfaction Score_5</th>\n",
       "    </tr>\n",
       "  </thead>\n",
       "  <tbody>\n",
       "    <tr>\n",
       "      <th>9547</th>\n",
       "      <td>1743</td>\n",
       "      <td>626</td>\n",
       "      <td>34</td>\n",
       "      <td>0.00</td>\n",
       "      <td>37870.29</td>\n",
       "      <td>604</td>\n",
       "      <td>0</td>\n",
       "      <td>0</td>\n",
       "      <td>0</td>\n",
       "      <td>0</td>\n",
       "      <td>...</td>\n",
       "      <td>0</td>\n",
       "      <td>1</td>\n",
       "      <td>0</td>\n",
       "      <td>0</td>\n",
       "      <td>1</td>\n",
       "      <td>1</td>\n",
       "      <td>0</td>\n",
       "      <td>0</td>\n",
       "      <td>0</td>\n",
       "      <td>0</td>\n",
       "    </tr>\n",
       "    <tr>\n",
       "      <th>8821</th>\n",
       "      <td>790</td>\n",
       "      <td>662</td>\n",
       "      <td>42</td>\n",
       "      <td>105021.28</td>\n",
       "      <td>48242.38</td>\n",
       "      <td>313</td>\n",
       "      <td>0</td>\n",
       "      <td>1</td>\n",
       "      <td>0</td>\n",
       "      <td>0</td>\n",
       "      <td>...</td>\n",
       "      <td>0</td>\n",
       "      <td>0</td>\n",
       "      <td>0</td>\n",
       "      <td>0</td>\n",
       "      <td>1</td>\n",
       "      <td>0</td>\n",
       "      <td>0</td>\n",
       "      <td>0</td>\n",
       "      <td>1</td>\n",
       "      <td>0</td>\n",
       "    </tr>\n",
       "    <tr>\n",
       "      <th>730</th>\n",
       "      <td>2085</td>\n",
       "      <td>591</td>\n",
       "      <td>24</td>\n",
       "      <td>147360.00</td>\n",
       "      <td>25310.82</td>\n",
       "      <td>602</td>\n",
       "      <td>0</td>\n",
       "      <td>0</td>\n",
       "      <td>1</td>\n",
       "      <td>0</td>\n",
       "      <td>...</td>\n",
       "      <td>0</td>\n",
       "      <td>0</td>\n",
       "      <td>0</td>\n",
       "      <td>0</td>\n",
       "      <td>1</td>\n",
       "      <td>1</td>\n",
       "      <td>0</td>\n",
       "      <td>1</td>\n",
       "      <td>0</td>\n",
       "      <td>0</td>\n",
       "    </tr>\n",
       "    <tr>\n",
       "      <th>4866</th>\n",
       "      <td>1996</td>\n",
       "      <td>522</td>\n",
       "      <td>37</td>\n",
       "      <td>95022.57</td>\n",
       "      <td>129107.59</td>\n",
       "      <td>534</td>\n",
       "      <td>1</td>\n",
       "      <td>0</td>\n",
       "      <td>0</td>\n",
       "      <td>0</td>\n",
       "      <td>...</td>\n",
       "      <td>0</td>\n",
       "      <td>0</td>\n",
       "      <td>0</td>\n",
       "      <td>0</td>\n",
       "      <td>1</td>\n",
       "      <td>1</td>\n",
       "      <td>0</td>\n",
       "      <td>1</td>\n",
       "      <td>0</td>\n",
       "      <td>0</td>\n",
       "    </tr>\n",
       "    <tr>\n",
       "      <th>5171</th>\n",
       "      <td>1971</td>\n",
       "      <td>537</td>\n",
       "      <td>39</td>\n",
       "      <td>0.00</td>\n",
       "      <td>137651.60</td>\n",
       "      <td>413</td>\n",
       "      <td>0</td>\n",
       "      <td>0</td>\n",
       "      <td>1</td>\n",
       "      <td>0</td>\n",
       "      <td>...</td>\n",
       "      <td>0</td>\n",
       "      <td>1</td>\n",
       "      <td>0</td>\n",
       "      <td>0</td>\n",
       "      <td>1</td>\n",
       "      <td>1</td>\n",
       "      <td>1</td>\n",
       "      <td>0</td>\n",
       "      <td>0</td>\n",
       "      <td>0</td>\n",
       "    </tr>\n",
       "  </tbody>\n",
       "</table>\n",
       "<p>5 rows × 31 columns</p>\n",
       "</div>"
      ],
      "text/plain": [
       "      Surname  CreditScore  Age    Balance  EstimatedSalary  Point Earned  \\\n",
       "9547     1743          626   34       0.00         37870.29           604   \n",
       "8821      790          662   42  105021.28         48242.38           313   \n",
       "730      2085          591   24  147360.00         25310.82           602   \n",
       "4866     1996          522   37   95022.57        129107.59           534   \n",
       "5171     1971          537   39       0.00        137651.60           413   \n",
       "\n",
       "      cataGeography_Germany  cataGeography_Spain  cataGender_Male  \\\n",
       "9547                      0                    0                0   \n",
       "8821                      0                    1                0   \n",
       "730                       0                    0                1   \n",
       "4866                      1                    0                0   \n",
       "5171                      0                    0                1   \n",
       "\n",
       "      cataCard Type_GOLD  ...  cataTenure_10  cataNumOfProducts_2  \\\n",
       "9547                   0  ...              0                    1   \n",
       "8821                   0  ...              0                    0   \n",
       "730                    0  ...              0                    0   \n",
       "4866                   0  ...              0                    0   \n",
       "5171                   0  ...              0                    1   \n",
       "\n",
       "      cataNumOfProducts_3  cataNumOfProducts_4  cataHasCrCard_1  \\\n",
       "9547                    0                    0                1   \n",
       "8821                    0                    0                1   \n",
       "730                     0                    0                1   \n",
       "4866                    0                    0                1   \n",
       "5171                    0                    0                1   \n",
       "\n",
       "      cataIsActiveMember_1  cataSatisfaction Score_2  \\\n",
       "9547                     1                         0   \n",
       "8821                     0                         0   \n",
       "730                      1                         0   \n",
       "4866                     1                         0   \n",
       "5171                     1                         1   \n",
       "\n",
       "      cataSatisfaction Score_3  cataSatisfaction Score_4  \\\n",
       "9547                         0                         0   \n",
       "8821                         0                         1   \n",
       "730                          1                         0   \n",
       "4866                         1                         0   \n",
       "5171                         0                         0   \n",
       "\n",
       "      cataSatisfaction Score_5  \n",
       "9547                         0  \n",
       "8821                         0  \n",
       "730                          0  \n",
       "4866                         0  \n",
       "5171                         0  \n",
       "\n",
       "[5 rows x 31 columns]"
      ]
     },
     "execution_count": 18,
     "metadata": {},
     "output_type": "execute_result"
    }
   ],
   "source": [
    " dataset.sample(5)"
   ]
  },
  {
   "cell_type": "code",
   "execution_count": 19,
   "id": "2b62a039",
   "metadata": {},
   "outputs": [
    {
     "data": {
      "text/plain": [
       "31"
      ]
     },
     "execution_count": 19,
     "metadata": {},
     "output_type": "execute_result"
    }
   ],
   "source": [
    "# dataset.columns.nunique()"
   ]
  },
  {
   "cell_type": "code",
   "execution_count": 20,
   "id": "472a6ef8",
   "metadata": {},
   "outputs": [],
   "source": [
    "## model selection "
   ]
  },
  {
   "cell_type": "markdown",
   "id": "e14df234",
   "metadata": {},
   "source": [
    "## train test split "
   ]
  },
  {
   "cell_type": "code",
   "execution_count": 21,
   "id": "04d68a4d",
   "metadata": {},
   "outputs": [],
   "source": [
    "# X=dataset\n",
    "# Y=target_var \n",
    "# X_train,X_test,Y_train,Y_test=train_test_split(X,Y,test_size=0.30,random_state=55)\n"
   ]
  },
  {
   "cell_type": "code",
   "execution_count": 22,
   "id": "ec1ca8d5",
   "metadata": {},
   "outputs": [],
   "source": [
    "# #confusion matrix \n",
    "# def evalmat(truevalue,predict):\n",
    "#     cm=confusion_matrix(truevalue,predict)\n",
    "#     print(cm)\n",
    "#     tn=cm[0,0]\n",
    "#     fp=cm[0,1]\n",
    "#     fn=cm[1,0]\n",
    "#     tp=cm[1,1]\n",
    "#     #Sensitivity/ Recall/ True Positive Rate = TP / [TP + FN]\n",
    "#     recall=tp/[tp/fn]\n",
    "#     #Specificity/TNR = TN / [TN + FP]\n",
    "#     specificity=tn/(tn+fp)\n",
    "#    #Accuracy = [TP + TN] / [TP + FN + FP + TN]\n",
    "#     accuracy= (tp + tn) / (tp + fn + fp + tn)\n",
    "#     #Precision = TP / [TP + FP]\n",
    "#     Precision = tp / (tp + fp)\n",
    "#     #F1-Score = [2 x Precision x Recall] / [Precision + Recall]\n",
    "#     F1_Score = (2*Precision*recall) /(Precision + recall)\n",
    "#     print('recall=',recall,'\\n')\n",
    "#     print('specificity=',specificity,'\\n','accuracy=',accuracy,'\\n','Precision=',Precision,'\\n')\n",
    "#     print('F1_Score =',F1_Score,'\\n')"
   ]
  },
  {
   "cell_type": "markdown",
   "id": "d95e4db5",
   "metadata": {},
   "source": [
    "## decision tree "
   ]
  },
  {
   "cell_type": "code",
   "execution_count": null,
   "id": "15ab4ea0",
   "metadata": {},
   "outputs": [],
   "source": []
  },
  {
   "cell_type": "code",
   "execution_count": 23,
   "id": "0bdc6e7a",
   "metadata": {},
   "outputs": [
    {
     "name": "stdout",
     "output_type": "stream",
     "text": [
      "train evelution metrics\n",
      "\n",
      "[[6364    0]\n",
      " [   0 1636]]\n",
      "recall= [0.] \n",
      "\n",
      "specificity= 1.0 \n",
      " accuracy= 1.0 \n",
      " Precision= 1.0 \n",
      "\n",
      "F1_Score = [0.] \n",
      "\n",
      "test evelution metrics\n",
      "\n",
      "[[1349  249]\n",
      " [ 180  222]]\n",
      "recall= [180.] \n",
      "\n",
      "specificity= 0.844180225281602 \n",
      " accuracy= 0.7855 \n",
      " Precision= 0.4713375796178344 \n",
      "\n",
      "F1_Score = [0.94021317] \n",
      "\n"
     ]
    },
    {
     "name": "stderr",
     "output_type": "stream",
     "text": [
      "C:\\Users\\Asus\\AppData\\Local\\Temp\\ipykernel_11744\\2557941390.py:10: RuntimeWarning:\n",
      "\n",
      "divide by zero encountered in longlong_scalars\n",
      "\n"
     ]
    }
   ],
   "source": [
    "# ## dicision tree classifier in rfe starting or top  2  featues are enough to gain 100% acciuracy  \n",
    "# X=dataset\n",
    "# Y=target_var \n",
    "# X_train,X_test,Y_train,Y_test=train_test_split(X,Y,test_size=0.20,random_state=55)\n",
    "# modeldt=tree.DecisionTreeClassifier()\n",
    "# modeldt.fit(X_train,Y_train)\n",
    "# dt_train_pread=modeldt.predict(X_train)\n",
    "# dt_test_pread=modeldt.predict(X_test)\n",
    "# print('train evelution metrics\\n')\n",
    "# evalmat(Y_train,dt_train_pread)\n",
    "# print('test evelution metrics\\n')\n",
    "# evalmat(Y_test,dt_test_pread)\n",
    "\n"
   ]
  },
  {
   "cell_type": "markdown",
   "id": "70237de8",
   "metadata": {},
   "source": [
    "## random forest model "
   ]
  },
  {
   "cell_type": "code",
   "execution_count": 24,
   "id": "fba99e00",
   "metadata": {},
   "outputs": [],
   "source": [
    "# modelrf=RandomForestClassifier()"
   ]
  },
  {
   "cell_type": "code",
   "execution_count": 25,
   "id": "ba927372",
   "metadata": {},
   "outputs": [
    {
     "data": {
      "text/plain": [
       "RandomForestClassifier()"
      ]
     },
     "execution_count": 25,
     "metadata": {},
     "output_type": "execute_result"
    }
   ],
   "source": [
    "# modelrf.fit(X_train,Y_train)"
   ]
  },
  {
   "cell_type": "code",
   "execution_count": 26,
   "id": "f9467030",
   "metadata": {},
   "outputs": [],
   "source": [
    "# rf_train_pred=modelrf.predict(X_train)\n",
    "# rf_test_pred=modelrf.predict(X_test)"
   ]
  },
  {
   "cell_type": "code",
   "execution_count": 27,
   "id": "339a6753",
   "metadata": {
    "scrolled": false
   },
   "outputs": [
    {
     "name": "stdout",
     "output_type": "stream",
     "text": [
      "train evelution metrics\n",
      "\n",
      "[[6364    0]\n",
      " [   0 1636]]\n",
      "recall= [0.] \n",
      "\n",
      "specificity= 1.0 \n",
      " accuracy= 1.0 \n",
      " Precision= 1.0 \n",
      "\n",
      "F1_Score = [0.] \n",
      "\n",
      "test evelution metrics\n",
      "\n",
      "[[1535   63]\n",
      " [ 212  190]]\n",
      "recall= [212.] \n",
      "\n",
      "specificity= 0.9605757196495619 \n",
      " accuracy= 0.8625 \n",
      " Precision= 0.7509881422924901 \n",
      "\n",
      "F1_Score = [1.49667447] \n",
      "\n"
     ]
    },
    {
     "name": "stderr",
     "output_type": "stream",
     "text": [
      "C:\\Users\\Asus\\AppData\\Local\\Temp\\ipykernel_11744\\2557941390.py:10: RuntimeWarning:\n",
      "\n",
      "divide by zero encountered in longlong_scalars\n",
      "\n"
     ]
    }
   ],
   "source": [
    "# print('train evelution metrics\\n')\n",
    "# evalmat(Y_train,rf_train_pred)\n",
    "# print('test evelution metrics\\n')\n",
    "# evalmat(Y_test,rf_test_pred)"
   ]
  },
  {
   "cell_type": "markdown",
   "id": "cb4933bc",
   "metadata": {},
   "source": [
    "## svm "
   ]
  },
  {
   "cell_type": "code",
   "execution_count": 28,
   "id": "805dc789",
   "metadata": {},
   "outputs": [],
   "source": [
    "#  modelsvm=svm.SVC(kernel='linear')\n",
    "# scaler=MinMaxScaler()\n",
    "# X=dataset\n",
    "# Y=target_var \n",
    "# X_train,X_test,Y_train,Y_test=train_test_split(X,Y,test_size=0.30,random_state=55)\n",
    "# X_train[X_train.columns]=scaler.fit_transform(X_train[X_train.columns])"
   ]
  },
  {
   "cell_type": "code",
   "execution_count": 29,
   "id": "84237075",
   "metadata": {},
   "outputs": [],
   "source": [
    "# modelsvm.fit(X_train,Y_train)\n",
    "# modelsvm_train_pred=modelsvm.predict(X_train)\n",
    "# modelsvm_test_pred=modelsvm.predict(X_test)"
   ]
  },
  {
   "cell_type": "code",
   "execution_count": 30,
   "id": "f07ab31f",
   "metadata": {},
   "outputs": [],
   "source": [
    "# modelsvm_train_pred=modelsvm.predict(X_train)\n",
    "# modelsvm_test_pred=modelsvm.predict(X_test)"
   ]
  },
  {
   "cell_type": "code",
   "execution_count": 31,
   "id": "0c08c323",
   "metadata": {
    "scrolled": false
   },
   "outputs": [
    {
     "name": "stdout",
     "output_type": "stream",
     "text": [
      "train evelution metrics\n",
      "\n",
      "[[5539   35]\n",
      " [1231  195]]\n",
      "recall= [1231.] \n",
      "\n",
      "specificity= 0.9937208467886617 \n",
      " accuracy= 0.8191428571428572 \n",
      " Precision= 0.8478260869565217 \n",
      "\n",
      "F1_Score = [1.69448513] \n",
      "\n",
      "test evelution metrics\n",
      "\n",
      "[[1425  963]\n",
      " [ 443  169]]\n",
      "recall= [443.] \n",
      "\n",
      "specificity= 0.5967336683417085 \n",
      " accuracy= 0.5313333333333333 \n",
      " Precision= 0.14929328621908128 \n",
      "\n",
      "F1_Score = [0.29848598] \n",
      "\n"
     ]
    }
   ],
   "source": [
    "# print('train evelution metrics\\n')\n",
    "# evalmat(Y_train,modelsvm_train_pred)\n",
    "# print('test evelution metrics\\n')\n",
    "# evalmat(Y_test,modelsvm_test_pred)"
   ]
  },
  {
   "cell_type": "markdown",
   "id": "eb6baff5",
   "metadata": {},
   "source": [
    "## xg boost "
   ]
  },
  {
   "cell_type": "code",
   "execution_count": 32,
   "id": "749aee28",
   "metadata": {},
   "outputs": [],
   "source": [
    "# modelxg=xgb.XGBClassifier()"
   ]
  },
  {
   "cell_type": "code",
   "execution_count": 33,
   "id": "ded5dad6",
   "metadata": {},
   "outputs": [
    {
     "data": {
      "text/plain": [
       "XGBClassifier(base_score=None, booster=None, callbacks=None,\n",
       "              colsample_bylevel=None, colsample_bynode=None,\n",
       "              colsample_bytree=None, early_stopping_rounds=None,\n",
       "              enable_categorical=False, eval_metric=None, feature_types=None,\n",
       "              gamma=None, gpu_id=None, grow_policy=None, importance_type=None,\n",
       "              interaction_constraints=None, learning_rate=None, max_bin=None,\n",
       "              max_cat_threshold=None, max_cat_to_onehot=None,\n",
       "              max_delta_step=None, max_depth=None, max_leaves=None,\n",
       "              min_child_weight=None, missing=nan, monotone_constraints=None,\n",
       "              n_estimators=100, n_jobs=None, num_parallel_tree=None,\n",
       "              predictor=None, random_state=None, ...)"
      ]
     },
     "execution_count": 33,
     "metadata": {},
     "output_type": "execute_result"
    }
   ],
   "source": [
    "# modelxg.fit(X_train,Y_train)\n"
   ]
  },
  {
   "cell_type": "code",
   "execution_count": 34,
   "id": "1707b502",
   "metadata": {},
   "outputs": [],
   "source": [
    "# xg_train_pred=modelxg.predict(X_train)\n",
    "# xg_test_pred=modelxg.predict(X_test)"
   ]
  },
  {
   "cell_type": "code",
   "execution_count": 35,
   "id": "7e4de515",
   "metadata": {},
   "outputs": [
    {
     "name": "stdout",
     "output_type": "stream",
     "text": [
      "train evelution metrics\n",
      "\n",
      "[[5557   17]\n",
      " [ 115 1311]]\n",
      "recall= [115.] \n",
      "\n",
      "specificity= 0.9969501255830642 \n",
      " accuracy= 0.9811428571428571 \n",
      " Precision= 0.9871987951807228 \n",
      "\n",
      "F1_Score = [1.95759295] \n",
      "\n",
      "test evelution metrics\n",
      "\n",
      "[[2376   12]\n",
      " [ 571   41]]\n",
      "recall= [571.] \n",
      "\n",
      "specificity= 0.9949748743718593 \n",
      " accuracy= 0.8056666666666666 \n",
      " Precision= 0.7735849056603774 \n",
      "\n",
      "F1_Score = [1.54507656] \n",
      "\n"
     ]
    }
   ],
   "source": [
    "# print('train evelution metrics\\n')\n",
    "# evalmat(Y_train,xg_train_pred)\n",
    "# print('test evelution metrics\\n')\n",
    "# evalmat(Y_test,xg_test_pred)"
   ]
  },
  {
   "cell_type": "code",
   "execution_count": null,
   "id": "6708f71a",
   "metadata": {},
   "outputs": [],
   "source": []
  },
  {
   "cell_type": "markdown",
   "id": "7ac2525d",
   "metadata": {},
   "source": [
    "## logistic regression"
   ]
  },
  {
   "cell_type": "code",
   "execution_count": 36,
   "id": "4d0e12ce",
   "metadata": {},
   "outputs": [],
   "source": [
    "#  modellr=LogisticRegression()\n",
    "# scaler=MinMaxScaler()\n",
    "# X=dataset\n",
    "# Y=target_var \n",
    "# X_train,X_test,Y_train,Y_test=train_test_split(X,Y,test_size=0.20,random_state=55)\n",
    "# X_train[X_train.columns]=scaler.fit_transform(X_train[X_train.columns])"
   ]
  },
  {
   "cell_type": "code",
   "execution_count": 37,
   "id": "510b3225",
   "metadata": {},
   "outputs": [
    {
     "data": {
      "text/plain": [
       "LogisticRegression()"
      ]
     },
     "execution_count": 37,
     "metadata": {},
     "output_type": "execute_result"
    }
   ],
   "source": [
    "#  modellr.fit(X_train,Y_train)"
   ]
  },
  {
   "cell_type": "code",
   "execution_count": 38,
   "id": "abde5db1",
   "metadata": {},
   "outputs": [],
   "source": [
    "# modellr_train_pred=modellr.predict(X_train)\n",
    "# modellr_test_pred=modellr.predict(X_test)\n"
   ]
  },
  {
   "cell_type": "code",
   "execution_count": 39,
   "id": "116ff818",
   "metadata": {},
   "outputs": [
    {
     "name": "stdout",
     "output_type": "stream",
     "text": [
      "train evelution metrics\n",
      "\n",
      "[[6114  250]\n",
      " [1031  605]]\n",
      "recall= [1031.] \n",
      "\n",
      "specificity= 0.9607165304839723 \n",
      " accuracy= 0.839875 \n",
      " Precision= 0.7076023391812866 \n",
      "\n",
      "F1_Score = [1.41423405] \n",
      "\n",
      "test evelution metrics\n",
      "\n",
      "[[956 642]\n",
      " [301 101]]\n",
      "recall= [301.] \n",
      "\n",
      "specificity= 0.5982478097622027 \n",
      " accuracy= 0.5285 \n",
      " Precision= 0.13593539703903096 \n",
      "\n",
      "F1_Score = [0.27174807] \n",
      "\n"
     ]
    }
   ],
   "source": [
    "# print('train evelution metrics\\n')\n",
    "# evalmat(Y_train,modellr_train_pred)\n",
    "# print('test evelution metrics\\n')\n",
    "# evalmat(Y_test,modellr_test_pred)"
   ]
  },
  {
   "cell_type": "code",
   "execution_count": null,
   "id": "0c66bab7",
   "metadata": {},
   "outputs": [],
   "source": []
  },
  {
   "cell_type": "markdown",
   "id": "f4277bbc",
   "metadata": {},
   "source": [
    "## as random forest evelutationary metrics are good we take to improve the mode "
   ]
  },
  {
   "cell_type": "code",
   "execution_count": 40,
   "id": "8851be57",
   "metadata": {},
   "outputs": [
    {
     "name": "stdout",
     "output_type": "stream",
     "text": [
      "Fitting estimator with 31 features.\n",
      "Fitting estimator with 30 features.\n",
      "Fitting estimator with 29 features.\n",
      "Fitting estimator with 28 features.\n",
      "Fitting estimator with 27 features.\n",
      "Fitting estimator with 26 features.\n",
      "Fitting estimator with 25 features.\n",
      "Fitting estimator with 24 features.\n",
      "Fitting estimator with 23 features.\n",
      "Fitting estimator with 22 features.\n",
      "Fitting estimator with 21 features.\n",
      "Fitting estimator with 20 features.\n",
      "Fitting estimator with 19 features.\n",
      "Fitting estimator with 18 features.\n",
      "Fitting estimator with 17 features.\n",
      "Fitting estimator with 16 features.\n",
      "Fitting estimator with 15 features.\n",
      "Fitting estimator with 14 features.\n",
      "Fitting estimator with 13 features.\n",
      "Fitting estimator with 12 features.\n",
      "Fitting estimator with 11 features.\n"
     ]
    }
   ],
   "source": [
    "modelrf=RandomForestClassifier()\n",
    "X_train,X_test,Y_train,Y_test=train_test_split(X,Y,test_size=0.20,random_state=55)\n",
    "rfe=RFE(modelrf,n_features_to_select=10,verbose=15)\n",
    "rfe.fit(X_train,Y_train)\n",
    "names=X_train.columns.tolist()\n",
    "\n",
    "b=rfe.ranking_\n",
    "a=pd.DataFrame(sorted(list(map(lambda x,y: (x,y),b,names))),columns=['rank','features'])\n",
    "\n",
    "RFE_selected=a['features'][a['rank']==1]\n",
    "\n",
    "RFE_selected\n",
    "X_train=X_train[RFE_selected]\n",
    "X_test=X_test[RFE_selected]\n",
    "\n",
    "\n",
    "\n"
   ]
  },
  {
   "cell_type": "code",
   "execution_count": 41,
   "id": "79bb29a5",
   "metadata": {},
   "outputs": [],
   "source": [
    "smote = SMOTE(random_state=42)\n",
    "X_train, Y_train = smote.fit_resample(X_train, Y_train)"
   ]
  },
  {
   "cell_type": "code",
   "execution_count": 42,
   "id": "140dd5a8",
   "metadata": {},
   "outputs": [
    {
     "name": "stdout",
     "output_type": "stream",
     "text": [
      "train evelution metrics\n",
      "\n",
      "[[6364    0]\n",
      " [   0 6364]]\n",
      "recall= [0.] \n",
      "\n",
      "specificity= 1.0 \n",
      " accuracy= 1.0 \n",
      " Precision= 1.0 \n",
      "\n",
      "F1_Score = [0.] \n",
      "\n",
      "test evelution metrics\n",
      "\n",
      "[[1332  266]\n",
      " [ 115  287]]\n",
      "recall= [115.] \n",
      "\n",
      "specificity= 0.8335419274092616 \n",
      " accuracy= 0.8095 \n",
      " Precision= 0.5189873417721519 \n",
      "\n",
      "F1_Score = [1.03331142] \n",
      "\n"
     ]
    },
    {
     "name": "stderr",
     "output_type": "stream",
     "text": [
      "C:\\Users\\Asus\\AppData\\Local\\Temp\\ipykernel_11744\\2557941390.py:10: RuntimeWarning:\n",
      "\n",
      "divide by zero encountered in longlong_scalars\n",
      "\n"
     ]
    }
   ],
   "source": [
    "modelrf=modelrf.fit(X_train,Y_train)\n",
    "rf_train_pred=modelrf.predict(X_train)\n",
    "rf_test_pred=modelrf.predict(X_test)\n",
    "\n",
    "print('train evelution metrics\\n')\n",
    "evalmat(Y_train,rf_train_pred)\n",
    "print('test evelution metrics\\n')\n",
    "evalmat(Y_test,rf_test_pred)"
   ]
  },
  {
   "cell_type": "code",
   "execution_count": 43,
   "id": "3d6ec34f",
   "metadata": {},
   "outputs": [
    {
     "data": {
      "text/plain": [
       "10"
      ]
     },
     "execution_count": 43,
     "metadata": {},
     "output_type": "execute_result"
    }
   ],
   "source": [
    "rfi=modelrf.feature_importances_\n",
    "pd.Series(rfi).nunique()\n"
   ]
  },
  {
   "cell_type": "code",
   "execution_count": 44,
   "id": "ef654986",
   "metadata": {},
   "outputs": [],
   "source": [
    "feature_importances=pd.DataFrame({'index':X_train.columns,'values':rfi})\n"
   ]
  },
  {
   "cell_type": "code",
   "execution_count": 45,
   "id": "423e0dd5",
   "metadata": {},
   "outputs": [
    {
     "data": {
      "text/html": [
       "<div>\n",
       "<style scoped>\n",
       "    .dataframe tbody tr th:only-of-type {\n",
       "        vertical-align: middle;\n",
       "    }\n",
       "\n",
       "    .dataframe tbody tr th {\n",
       "        vertical-align: top;\n",
       "    }\n",
       "\n",
       "    .dataframe thead th {\n",
       "        text-align: right;\n",
       "    }\n",
       "</style>\n",
       "<table border=\"1\" class=\"dataframe\">\n",
       "  <thead>\n",
       "    <tr style=\"text-align: right;\">\n",
       "      <th></th>\n",
       "      <th>index</th>\n",
       "      <th>values</th>\n",
       "    </tr>\n",
       "  </thead>\n",
       "  <tbody>\n",
       "    <tr>\n",
       "      <th>8</th>\n",
       "      <td>cataNumOfProducts_2</td>\n",
       "      <td>0.202323</td>\n",
       "    </tr>\n",
       "    <tr>\n",
       "      <th>0</th>\n",
       "      <td>Age</td>\n",
       "      <td>0.189926</td>\n",
       "    </tr>\n",
       "    <tr>\n",
       "      <th>1</th>\n",
       "      <td>Balance</td>\n",
       "      <td>0.104348</td>\n",
       "    </tr>\n",
       "    <tr>\n",
       "      <th>5</th>\n",
       "      <td>Surname</td>\n",
       "      <td>0.100400</td>\n",
       "    </tr>\n",
       "    <tr>\n",
       "      <th>7</th>\n",
       "      <td>cataIsActiveMember_1</td>\n",
       "      <td>0.099074</td>\n",
       "    </tr>\n",
       "    <tr>\n",
       "      <th>3</th>\n",
       "      <td>EstimatedSalary</td>\n",
       "      <td>0.097784</td>\n",
       "    </tr>\n",
       "    <tr>\n",
       "      <th>4</th>\n",
       "      <td>Point Earned</td>\n",
       "      <td>0.097683</td>\n",
       "    </tr>\n",
       "    <tr>\n",
       "      <th>2</th>\n",
       "      <td>CreditScore</td>\n",
       "      <td>0.088570</td>\n",
       "    </tr>\n",
       "    <tr>\n",
       "      <th>6</th>\n",
       "      <td>cataGeography_Germany</td>\n",
       "      <td>0.013653</td>\n",
       "    </tr>\n",
       "    <tr>\n",
       "      <th>9</th>\n",
       "      <td>cataNumOfProducts_3</td>\n",
       "      <td>0.006240</td>\n",
       "    </tr>\n",
       "  </tbody>\n",
       "</table>\n",
       "</div>"
      ],
      "text/plain": [
       "                   index    values\n",
       "8    cataNumOfProducts_2  0.202323\n",
       "0                    Age  0.189926\n",
       "1                Balance  0.104348\n",
       "5                Surname  0.100400\n",
       "7   cataIsActiveMember_1  0.099074\n",
       "3        EstimatedSalary  0.097784\n",
       "4           Point Earned  0.097683\n",
       "2            CreditScore  0.088570\n",
       "6  cataGeography_Germany  0.013653\n",
       "9    cataNumOfProducts_3  0.006240"
      ]
     },
     "execution_count": 45,
     "metadata": {},
     "output_type": "execute_result"
    }
   ],
   "source": [
    "feature_importances=feature_importances.sort_values(by='values',ascending=False)\n",
    "feature_importances\n"
   ]
  },
  {
   "cell_type": "code",
   "execution_count": 46,
   "id": "9245e837",
   "metadata": {},
   "outputs": [
    {
     "data": {
      "image/png": "[encoded data removed]",
      "text/plain": [
       "<Figure size 640x480 with 1 Axes>"
      ]
     },
     "metadata": {},
     "output_type": "display_data"
    }
   ],
   "source": [
    "plt.title('Feature Importances')\n",
    "plt.barh(feature_importances['index'], feature_importances['values'], color='blue')\n",
    "plt.yticks(feature_importances['index'])\n",
    "plt.xlabel('Relative Importance for default model after rfe')\n",
    "plt.show()"
   ]
  },
  {
   "cell_type": "markdown",
   "id": "c936e8e6",
   "metadata": {},
   "source": [
    "## hyper parameter tuning  framing the grid search cv \n"
   ]
  },
  {
   "cell_type": "code",
   "execution_count": null,
   "id": "109a5ec6",
   "metadata": {},
   "outputs": [],
   "source": [
    "max_depths = np.linspace(1, 32, 32, endpoint=True)\n",
    "#linspace generates the samples \n",
    "train_results = []\n",
    "test_results = []\n",
    "for i in max_depths:\n",
    "    modelrf=RandomForestClassifier(max_depth=i)\n",
    "    modelrf.fit(X_train,Y_train)\n",
    "\n",
    "    train_pred = modelrf.predict(X_train)\n",
    "    confusion_matrix_train = confusion_matrix(Y_train, train_pred)\n",
    "    Accuracy_Train=(confusion_matrix_train[0,0]+confusion_matrix_train[1,1])/(confusion_matrix_train[0,0]+confusion_matrix_train[0,1]+confusion_matrix_train[1,0]+confusion_matrix_train[1,1])\n",
    "    train_results.append(Accuracy_Train)\n",
    "\n",
    "    test_pred = modelrf.predict(X_test)\n",
    "    confusion_matrix_test = confusion_matrix(Y_test, test_pred)\n",
    "    Accuracy_Test=(confusion_matrix_test[0,0]+confusion_matrix_test[1,1])/(confusion_matrix_test[0,0]+confusion_matrix_test[0,1]+confusion_matrix_test[1,0]+confusion_matrix_test[1,1])\n",
    "    test_results.append(Accuracy_Test)\n",
    "\n",
    "from matplotlib.legend_handler import HandlerLine2D\n",
    "line1, = plt.plot(max_depths, train_results,'b', label='Train Accuracy')\n",
    "line2, = plt.plot(max_depths, test_results,'r', label='Test Accuracy')\n",
    "plt.legend(handler_map={line1: HandlerLine2D(numpoints=2)})\n",
    "plt.ylabel('Accuracy')\n",
    "plt.xlabel('Tree depth')\n",
    "plt.show()"
   ]
  },
  {
   "cell_type": "code",
   "execution_count": null,
   "id": "58925596",
   "metadata": {
    "scrolled": true
   },
   "outputs": [],
   "source": [
    "max_depths = np.linspace(1, 10, 14, endpoint=True)\n",
    "#linspace generates the samples \n",
    "train_results = []\n",
    "test_results = []\n",
    "for i in max_depths:\n",
    "    modelrf=RandomForestClassifier(max_depth=i)\n",
    "    modelrf.fit(X_train,Y_train)\n",
    "\n",
    "    train_pred = modelrf.predict(X_train)\n",
    "    confusion_matrix_train = confusion_matrix(Y_train, train_pred)\n",
    "    Accuracy_Train=(confusion_matrix_train[0,0]+confusion_matrix_train[1,1])/(confusion_matrix_train[0,0]+confusion_matrix_train[0,1]+confusion_matrix_train[1,0]+confusion_matrix_train[1,1])\n",
    "    train_results.append(Accuracy_Train)\n",
    "\n",
    "    test_pred = modelrf.predict(X_test)\n",
    "    confusion_matrix_test = confusion_matrix(Y_test, test_pred)\n",
    "    Accuracy_Test=(confusion_matrix_test[0,0]+confusion_matrix_test[1,1])/(confusion_matrix_test[0,0]+confusion_matrix_test[0,1]+confusion_matrix_test[1,0]+confusion_matrix_test[1,1])\n",
    "    test_results.append(Accuracy_Test)\n",
    "\n",
    "from matplotlib.legend_handler import HandlerLine2D\n",
    "line1, = plt.plot(max_depths, train_results,'b', label='Train Accuracy')\n",
    "line2, = plt.plot(max_depths, test_results,'r', label='Test Accuracy')\n",
    "plt.legend(handler_map={line1: HandlerLine2D(numpoints=2)})\n",
    "plt.ylabel('Accuracy')\n",
    "plt.xlabel('Tree depth')\n",
    "plt.show()"
   ]
  },
  {
   "cell_type": "code",
   "execution_count": null,
   "id": "c369daab",
   "metadata": {},
   "outputs": [],
   "source": [
    "max_depths = np.linspace(4, 12, 14, endpoint=True)\n",
    "#linspace generates the samples \n",
    "train_results = []\n",
    "test_results = []\n",
    "for i in max_depths:\n",
    "    modelrf=RandomForestClassifier(max_depth=i)\n",
    "    modelrf.fit(X_train,Y_train)\n",
    "\n",
    "    train_pred = modelrf.predict(X_train)\n",
    "    confusion_matrix_train = confusion_matrix(Y_train, train_pred)\n",
    "    Accuracy_Train=(confusion_matrix_train[0,0]+confusion_matrix_train[1,1])/(confusion_matrix_train[0,0]+confusion_matrix_train[0,1]+confusion_matrix_train[1,0]+confusion_matrix_train[1,1])\n",
    "    train_results.append(Accuracy_Train)\n",
    "\n",
    "    test_pred = modelrf.predict(X_test)\n",
    "    confusion_matrix_test = confusion_matrix(Y_test, test_pred)\n",
    "    Accuracy_Test=(confusion_matrix_test[0,0]+confusion_matrix_test[1,1])/(confusion_matrix_test[0,0]+confusion_matrix_test[0,1]+confusion_matrix_test[1,0]+confusion_matrix_test[1,1])\n",
    "    test_results.append(Accuracy_Test)\n",
    "\n",
    "from matplotlib.legend_handler import HandlerLine2D\n",
    "line1, = plt.plot(max_depths, train_results,'b', label='Train Accuracy')\n",
    "line2, = plt.plot(max_depths, test_results,'r', label='Test Accuracy')\n",
    "plt.legend(handler_map={line1: HandlerLine2D(numpoints=2)})\n",
    "plt.ylabel('Accuracy')\n",
    "plt.xlabel('Tree depth')\n",
    "plt.show()"
   ]
  },
  {
   "cell_type": "code",
   "execution_count": null,
   "id": "2ccadfe0",
   "metadata": {},
   "outputs": [],
   "source": [
    "## max depth should be in between 1-5 for better model to be precise 1-8"
   ]
  },
  {
   "cell_type": "markdown",
   "id": "0e43f94f",
   "metadata": {},
   "source": [
    "## min_sample_leaf"
   ]
  },
  {
   "cell_type": "code",
   "execution_count": null,
   "id": "4e57ccb6",
   "metadata": {},
   "outputs": [],
   "source": [
    "min_samples_leafs=[5,10,15,20,25,30]\n",
    "\n",
    "train_results = []\n",
    "test_results = []\n",
    "\n",
    "for min_samples_leaf in min_samples_leafs:\n",
    "    modelrf=RandomForestClassifier(min_samples_leaf=min_samples_leaf)\n",
    "    modelrf.fit(X_train, Y_train)\n",
    "\n",
    "    train_pred = modelrf.predict(X_train)\n",
    "    confusion_matrix_train = confusion_matrix(Y_train, train_pred)\n",
    "    Accuracy_Train=(confusion_matrix_train[0,0]+confusion_matrix_train[1,1])/(confusion_matrix_train[0,0]+confusion_matrix_train[0,1]+confusion_matrix_train[1,0]+confusion_matrix_train[1,1])\n",
    "    train_results.append(Accuracy_Train)\n",
    "\n",
    "    test_pred = modelrf.predict(X_test)\n",
    "    confusion_matrix_test = confusion_matrix(Y_test, test_pred)\n",
    "    Accuracy_Test=(confusion_matrix_test[0,0]+confusion_matrix_test[1,1])/(confusion_matrix_test[0,0]+confusion_matrix_test[0,1]+confusion_matrix_test[1,0]+confusion_matrix_test[1,1])\n",
    "    test_results.append(Accuracy_Test)\n",
    "\n",
    "from matplotlib.legend_handler import HandlerLine2D\n",
    "line1, = plt.plot(min_samples_leafs, train_results,'b', label='Train Accuracy')\n",
    "line2, = plt.plot(min_samples_leafs, test_results,'r', label='Test Accuracy')\n",
    "plt.legend(handler_map={line1: HandlerLine2D(numpoints=2)})\n",
    "plt.ylabel('Accuracy')\n",
    "plt.xlabel('Tree min samples leaf')\n",
    "plt.show()"
   ]
  },
  {
   "cell_type": "code",
   "execution_count": null,
   "id": "3504caa5",
   "metadata": {},
   "outputs": [],
   "source": [
    "min_samples_leafs=[5,10,15,20]\n",
    "\n",
    "train_results = []\n",
    "test_results = []\n",
    "\n",
    "for min_samples_leaf in min_samples_leafs:\n",
    "    modelrf=RandomForestClassifier(min_samples_leaf=min_samples_leaf)\n",
    "    modelrf.fit(X_train, Y_train)\n",
    "\n",
    "    train_pred = modelrf.predict(X_train)\n",
    "    confusion_matrix_train = confusion_matrix(Y_train, train_pred)\n",
    "    Accuracy_Train=(confusion_matrix_train[0,0]+confusion_matrix_train[1,1])/(confusion_matrix_train[0,0]+confusion_matrix_train[0,1]+confusion_matrix_train[1,0]+confusion_matrix_train[1,1])\n",
    "    train_results.append(Accuracy_Train)\n",
    "\n",
    "    test_pred = modelrf.predict(X_test)\n",
    "    confusion_matrix_test = confusion_matrix(Y_test, test_pred)\n",
    "    Accuracy_Test=(confusion_matrix_test[0,0]+confusion_matrix_test[1,1])/(confusion_matrix_test[0,0]+confusion_matrix_test[0,1]+confusion_matrix_test[1,0]+confusion_matrix_test[1,1])\n",
    "    test_results.append(Accuracy_Test)\n",
    "\n",
    "from matplotlib.legend_handler import HandlerLine2D\n",
    "line1, = plt.plot(min_samples_leafs, train_results,'b', label='Train Accuracy')\n",
    "line2, = plt.plot(min_samples_leafs, test_results,'r', label='Test Accuracy')\n",
    "plt.legend(handler_map={line1: HandlerLine2D(numpoints=2)})\n",
    "plt.ylabel('Accuracy')\n",
    "plt.xlabel('Tree min samples leaf')\n",
    "plt.show()"
   ]
  },
  {
   "cell_type": "markdown",
   "id": "04c56e0d",
   "metadata": {},
   "source": [
    "## min_samples_split\n"
   ]
  },
  {
   "cell_type": "code",
   "execution_count": null,
   "id": "7f5ee824",
   "metadata": {},
   "outputs": [],
   "source": [
    "min_samples_splits=[5,10,15,20]\n",
    "\n",
    "train_results = []\n",
    "test_results = []\n",
    "\n",
    "for min_samples_split in min_samples_splits:\n",
    "    modelrf=RandomForestClassifier(min_samples_split=min_samples_split)\n",
    "    modelrf.fit(X_train, Y_train)\n",
    "\n",
    "    train_pred = modelrf.predict(X_train)\n",
    "    confusion_matrix_train = confusion_matrix(Y_train, train_pred)\n",
    "    Accuracy_Train=(confusion_matrix_train[0,0]+confusion_matrix_train[1,1])/(confusion_matrix_train[0,0]+confusion_matrix_train[0,1]+confusion_matrix_train[1,0]+confusion_matrix_train[1,1])\n",
    "    train_results.append(Accuracy_Train)\n",
    "\n",
    "    test_pred = modelrf.predict(X_test)\n",
    "    confusion_matrix_test = confusion_matrix(Y_test, test_pred)\n",
    "    Accuracy_Test=(confusion_matrix_test[0,0]+confusion_matrix_test[1,1])/(confusion_matrix_test[0,0]+confusion_matrix_test[0,1]+confusion_matrix_test[1,0]+confusion_matrix_test[1,1])\n",
    "    test_results.append(Accuracy_Test)\n",
    "\n",
    "from matplotlib.legend_handler import HandlerLine2D\n",
    "line1, = plt.plot(min_samples_splits, train_results,'b', label='Train Accuracy')\n",
    "line2, = plt.plot(min_samples_splits, test_results,'r', label='Test Accuracy')\n",
    "plt.legend(handler_map={line1: HandlerLine2D(numpoints=2)})\n",
    "plt.ylabel('Accuracy')\n",
    "plt.xlabel('Tree min samples split')\n",
    "plt.show()"
   ]
  },
  {
   "cell_type": "code",
   "execution_count": null,
   "id": "476123a5",
   "metadata": {},
   "outputs": [],
   "source": [
    "min_samples_splits=[5,10,15,20,25,30]\n",
    "\n",
    "train_results = []\n",
    "test_results = []\n",
    "\n",
    "for min_samples_split in min_samples_splits:\n",
    "    modelrf=RandomForestClassifier(min_samples_split=min_samples_split)\n",
    "    modelrf.fit(X_train, Y_train)\n",
    "\n",
    "    train_pred = modelrf.predict(X_train)\n",
    "    confusion_matrix_train = confusion_matrix(Y_train, train_pred)\n",
    "    Accuracy_Train=(confusion_matrix_train[0,0]+confusion_matrix_train[1,1])/(confusion_matrix_train[0,0]+confusion_matrix_train[0,1]+confusion_matrix_train[1,0]+confusion_matrix_train[1,1])\n",
    "    train_results.append(Accuracy_Train)\n",
    "\n",
    "    test_pred = modelrf.predict(X_test)\n",
    "    confusion_matrix_test = confusion_matrix(Y_test, test_pred)\n",
    "    Accuracy_Test=(confusion_matrix_test[0,0]+confusion_matrix_test[1,1])/(confusion_matrix_test[0,0]+confusion_matrix_test[0,1]+confusion_matrix_test[1,0]+confusion_matrix_test[1,1])\n",
    "    test_results.append(Accuracy_Test)\n",
    "\n",
    "from matplotlib.legend_handler import HandlerLine2D\n",
    "line1, = plt.plot(min_samples_splits, train_results,'b', label='Train Accuracy')\n",
    "line2, = plt.plot(min_samples_splits, test_results,'r', label='Test Accuracy')\n",
    "plt.legend(handler_map={line1: HandlerLine2D(numpoints=2)})\n",
    "plt.ylabel('Accuracy')\n",
    "plt.xlabel('Tree min samples split')\n",
    "plt.show()"
   ]
  },
  {
   "cell_type": "code",
   "execution_count": null,
   "id": "a444f031",
   "metadata": {},
   "outputs": [],
   "source": [
    "min_samples_splits=[20,25,30,40,50,60,70,80,90]\n",
    "\n",
    "train_results = []\n",
    "test_results = []\n",
    "\n",
    "for min_samples_split in min_samples_splits:\n",
    "    modelrf=RandomForestClassifier(min_samples_split=min_samples_split)\n",
    "    modelrf.fit(X_train, Y_train)\n",
    "\n",
    "    train_pred = modelrf.predict(X_train)\n",
    "    confusion_matrix_train = confusion_matrix(Y_train, train_pred)\n",
    "    Accuracy_Train=(confusion_matrix_train[0,0]+confusion_matrix_train[1,1])/(confusion_matrix_train[0,0]+confusion_matrix_train[0,1]+confusion_matrix_train[1,0]+confusion_matrix_train[1,1])\n",
    "    train_results.append(Accuracy_Train)\n",
    "\n",
    "    test_pred = modelrf.predict(X_test)\n",
    "    confusion_matrix_test = confusion_matrix(Y_test, test_pred)\n",
    "    Accuracy_Test=(confusion_matrix_test[0,0]+confusion_matrix_test[1,1])/(confusion_matrix_test[0,0]+confusion_matrix_test[0,1]+confusion_matrix_test[1,0]+confusion_matrix_test[1,1])\n",
    "    test_results.append(Accuracy_Test)\n",
    "\n",
    "from matplotlib.legend_handler import HandlerLine2D\n",
    "line1, = plt.plot(min_samples_splits, train_results,'b', label='Train Accuracy')\n",
    "line2, = plt.plot(min_samples_splits, test_results,'r', label='Test Accuracy')\n",
    "plt.legend(handler_map={line1: HandlerLine2D(numpoints=2)})\n",
    "plt.ylabel('Accuracy')\n",
    "plt.xlabel('Tree min samples split')\n",
    "plt.show()"
   ]
  },
  {
   "cell_type": "markdown",
   "id": "d3dba996",
   "metadata": {},
   "source": [
    "## min sample split should be in between 5-10"
   ]
  },
  {
   "cell_type": "markdown",
   "id": "f234ffdf",
   "metadata": {},
   "source": [
    "## n_estimators"
   ]
  },
  {
   "cell_type": "code",
   "execution_count": null,
   "id": "3e5aa3dc",
   "metadata": {},
   "outputs": [],
   "source": [
    "n_estimators_l=[100,200,300]\n",
    "\n",
    "train_results = []\n",
    "test_results = []\n",
    "\n",
    "for i in n_estimators_l:\n",
    "    modelrf=RandomForestClassifier(n_estimators=i)\n",
    "    modelrf.fit(X_train, Y_train)\n",
    "\n",
    "    train_pred = modelrf.predict(X_train)\n",
    "    confusion_matrix_train = confusion_matrix(Y_train, train_pred)\n",
    "    Accuracy_Train=(confusion_matrix_train[0,0]+confusion_matrix_train[1,1])/(confusion_matrix_train[0,0]+confusion_matrix_train[0,1]+confusion_matrix_train[1,0]+confusion_matrix_train[1,1])\n",
    "    train_results.append(Accuracy_Train)\n",
    "\n",
    "    test_pred = modelrf.predict(X_test)\n",
    "    confusion_matrix_test = confusion_matrix(Y_test, test_pred)\n",
    "    Accuracy_Test=(confusion_matrix_test[0,0]+confusion_matrix_test[1,1])/(confusion_matrix_test[0,0]+confusion_matrix_test[0,1]+confusion_matrix_test[1,0]+confusion_matrix_test[1,1])\n",
    "    test_results.append(Accuracy_Test)\n",
    "\n",
    "from matplotlib.legend_handler import HandlerLine2D\n",
    "line1, = plt.plot(n_estimators_l, train_results,'b', label='Train Accuracy')\n",
    "line2, = plt.plot(n_estimators_l, test_results,'r', label='Test Accuracy')\n",
    "plt.legend(handler_map={line1: HandlerLine2D(numpoints=2)})\n",
    "plt.ylabel('Accuracy')\n",
    "plt.xlabel('Tree n_estimators')\n",
    "plt.show()"
   ]
  },
  {
   "cell_type": "code",
   "execution_count": null,
   "id": "21b1fe55",
   "metadata": {},
   "outputs": [],
   "source": [
    "##"
   ]
  },
  {
   "cell_type": "code",
   "execution_count": null,
   "id": "ea254c22",
   "metadata": {},
   "outputs": [],
   "source": [
    "## max_leaf nodes will be in between 10- 40 \n",
    "param_grid_with = {    'criterion': ['gini', 'entropy'],\n",
    "    'max_features': ['auto', 'sqrt'],\n",
    "    #'min_samples_leaf': [5,10,15,20,25,27 ],\n",
    "\n",
    "              #\"min_samples_split\": [2, 10, 20],\n",
    "              \"max_depth\": [None, 1,2,3,4,5,6,7.4,8]\n",
    "              }"
   ]
  },
  {
   "cell_type": "code",
   "execution_count": null,
   "id": "dfdf664a",
   "metadata": {},
   "outputs": [],
   "source": [
    "param_griid = {\n",
    "    'n_estimators': [100, 200, 300],\n",
    "    'criterion': ['gini', 'entropy'],\n",
    "    'max_depth': [None, 5, 10],\n",
    "    'min_samples_split': [2, 5, 10],\n",
    "    'min_samples_leaf': [1, 2, 4],\n",
    "    'max_features': ['auto', 'sqrt'],\n",
    "    'bootstrap': [True, False],\n",
    "    'class_weight': [None, 'balanced']\n",
    "}"
   ]
  },
  {
   "cell_type": "code",
   "execution_count": null,
   "id": "d2de5767",
   "metadata": {},
   "outputs": [],
   "source": [
    "param_grid = {    'criterion': ['gini', 'entropy'],\n",
    "    'max_features': ['auto', 'sqrt'],\n",
    "    'min_samples_leaf': [5,10,15,20,25,27 ],\n",
    "    \"max_depth\": [None,6,6.5,7.4,8,9,10],\n",
    "    \"min_samples_split\": [2, 10, 20],\n",
    "\n",
    "              }"
   ]
  },
  {
   "cell_type": "code",
   "execution_count": null,
   "id": "90cb9194",
   "metadata": {},
   "outputs": [],
   "source": [
    "randomforest=RandomForestClassifier()\n"
   ]
  },
  {
   "cell_type": "code",
   "execution_count": null,
   "id": "9b768d21",
   "metadata": {},
   "outputs": [],
   "source": [
    "randomforest=RandomForestClassifier()\n",
    "model = RandomizedSearchCV(estimator=randomforest, param_distributions=param_grid, n_iter=10, cv=5)"
   ]
  },
  {
   "cell_type": "code",
   "execution_count": null,
   "id": "219b6eda",
   "metadata": {},
   "outputs": [],
   "source": [
    "model.fit(X_train,Y_train)"
   ]
  },
  {
   "cell_type": "code",
   "execution_count": null,
   "id": "104bee6e",
   "metadata": {},
   "outputs": [],
   "source": [
    "model.best_estimator_"
   ]
  },
  {
   "cell_type": "code",
   "execution_count": null,
   "id": "4d44e1ab",
   "metadata": {},
   "outputs": [],
   "source": [
    "train_pred = model.predict(X_train)\n",
    "test_pred = model.predict(X_test)"
   ]
  },
  {
   "cell_type": "code",
   "execution_count": null,
   "id": "0df245e1",
   "metadata": {},
   "outputs": [],
   "source": [
    "print('train evelution metrics\\n')\n",
    "evalmat(Y_train,train_pred)\n",
    "print('test evelution metrics\\n')\n",
    "evalmat(Y_test,test_pred)"
   ]
  },
  {
   "cell_type": "code",
   "execution_count": null,
   "id": "4f342b7f",
   "metadata": {},
   "outputs": [],
   "source": [
    "rfi=model.best_estimator_.feature_importances_\n",
    "pd.Series(rfi).nunique()\n",
    "feature_importances=pd.DataFrame({'index':X_train.columns,'values':rfi})\n",
    "feature_importances=feature_importances.sort_values(by='values',ascending=False)\n",
    "feature_importances\n",
    "plt.title('Feature Importances')\n",
    "plt.barh(feature_importances['index'], feature_importances['values'], color='blue')\n",
    "plt.yticks(feature_importances['index'])\n",
    "plt.xlabel('Relative Importance for default model after rfe')\n",
    "plt.show()"
   ]
  },
  {
   "cell_type": "code",
   "execution_count": null,
   "id": "724d141f",
   "metadata": {},
   "outputs": [],
   "source": [
    "def get_predictions(x_train,y_train):\n",
    "    y_train_proba = pd.DataFrame({'Exited':y_train.values,\n",
    "                                  'Exited_Prob':model.predict_proba(x_train)[:,1]})\n",
    "    y_train_proba['Cust_ID'] = y_train.index\n",
    "    y_train_proba = y_train_proba.reindex(['Cust_ID','Exited','Exited_Prob'], axis=1)\n",
    "    y_train_proba['predicted'] = y_train_proba.Exited_Prob.map(lambda x: 1 if x > 0.5 else 0)\n",
    "    return y_train_proba\n",
    "    \n",
    "   "
   ]
  },
  {
   "cell_type": "code",
   "execution_count": null,
   "id": "86d97d1d",
   "metadata": {},
   "outputs": [],
   "source": [
    "def draw_roc( actual, probs ):\n",
    "    fpr, tpr, thresholds = metrics.roc_curve( actual, probs,\n",
    "                                              drop_intermediate = False )\n",
    "    auc_score = metrics.roc_auc_score( actual, probs )\n",
    "    plt.figure(figsize=(5, 5))\n",
    "    plt.plot( fpr, tpr, label='ROC curve (area = %0.2f)' % auc_score )\n",
    "    plt.plot([0, 1], [0, 1], 'k--')\n",
    "    plt.xlim([0.0, 1.0])\n",
    "    plt.ylim([0.0, 1.05])\n",
    "    plt.xlabel('False Positive Rate or [1 - True Negative Rate]')\n",
    "    plt.ylabel('True Positive Rate')\n",
    "    plt.title('Receiver operating characteristic example')\n",
    "    plt.legend(loc=\"lower right\")\n",
    "    plt.show\n",
    "\n",
    "    return None"
   ]
  },
  {
   "cell_type": "code",
   "execution_count": null,
   "id": "2107c91b",
   "metadata": {},
   "outputs": [],
   "source": [
    "y_train_proba=get_predictions(X_train,Y_train)    \n",
    "y_test_proba=get_predictions(X_test,Y_test) \n",
    "print('train')\n",
    "print(y_train_proba.head())\n",
    "draw_roc(Y_train,y_train_proba['predicted'])\n",
    "print('test')\n",
    "print(y_test_proba.head())\n",
    "draw_roc(Y_test,y_test_proba['predicted'])"
   ]
  },
  {
   "cell_type": "code",
   "execution_count": null,
   "id": "ea75ad92",
   "metadata": {},
   "outputs": [],
   "source": [
    "evalmat(Y_train,y_train_proba.predicted)\n",
    "print('test_proba mertrics')\n",
    "evalmat(Y_test,y_test_proba.predicted)"
   ]
  },
  {
   "cell_type": "code",
   "execution_count": null,
   "id": "4579cfc0",
   "metadata": {},
   "outputs": [],
   "source": [
    "for i in range(10):\n",
    "        y_train_proba[i/10] = y_train_proba.Exited_Prob.map(lambda x: 1 if x > i/10 else 0)\n"
   ]
  },
  {
   "cell_type": "code",
   "execution_count": null,
   "id": "93334a61",
   "metadata": {},
   "outputs": [],
   "source": [
    "y_train_proba"
   ]
  },
  {
   "cell_type": "code",
   "execution_count": null,
   "id": "cb375ecb",
   "metadata": {},
   "outputs": [],
   "source": [
    "# Now let's calculate accuracy sensitivity and specificity for various probability cutoffs.\n",
    "cutoff_df = pd.DataFrame( columns = ['threshold','accuracy','sensi','speci'])\n",
    "from sklearn.metrics import confusion_matrix\n",
    "\n",
    "# TP = confusion[1,1] # true positive \n",
    "# TN = confusion[0,0] # true negatives\n",
    "# FP = confusion[0,1] # false positives\n",
    "# FN = confusion[1,0] # false negatives\n",
    "\n",
    "num = [0.0,0.1,0.2,0.3,0.4,0.5,0.6,0.7,0.8,0.9]\n",
    "for i in num:\n",
    "    cm1 = metrics.confusion_matrix(y_train_proba.Exited, y_train_proba[i] )\n",
    "    total1=sum(sum(cm1))\n",
    "    accuracy = (cm1[0,0]+cm1[1,1])/total1\n",
    "    \n",
    "    speci = cm1[0,0]/(cm1[0,0]+cm1[0,1])\n",
    "    sensi = cm1[1,1]/(cm1[1,0]+cm1[1,1])\n",
    "    cutoff_df.loc[i] =[ i ,accuracy,sensi,speci]\n",
    "print(cutoff_df)\n",
    "\n",
    "# Let's plot accuracy sensitivity and specificity for various probabilities.\n",
    "cutoff_df.plot.line(x='threshold', y=['accuracy','sensi','speci'])\n",
    "plt.show()"
   ]
  },
  {
   "cell_type": "code",
   "execution_count": null,
   "id": "cfd0eb42",
   "metadata": {},
   "outputs": [],
   "source": [
    "y_train_proba['final_predicted'] = y_train_proba.Exited_Prob.map( lambda x: 1 if x > 0.4 else 0)\n",
    "y_test_proba['final_predicted'] = y_test_proba.Exited_Prob.map( lambda x: 1 if x > 0.4 else 0)\n",
    "y_train_proba.head()\n",
    "\n"
   ]
  },
  {
   "cell_type": "code",
   "execution_count": null,
   "id": "3132ec18",
   "metadata": {
    "scrolled": false
   },
   "outputs": [],
   "source": [
    "\n",
    "y_train_proba['final_predicted'] = y_train_proba.Exited_Prob.map( lambda x: 1 if x > 0.56 else 0)\n",
    "y_test_proba['final_predicted'] = y_test_proba.Exited_Prob.map( lambda x: 1 if x > 0.56else 0)\n",
    "evalmat(Y_train,y_train_proba['final_predicted'])\n",
    "draw_roc(Y_train,y_train_proba['final_predicted'])\n",
    "evalmat(Y_test,y_test_proba['final_predicted'])\n",
    "draw_roc(Y_test,y_test_proba['final_predicted'])"
   ]
  },
  {
   "cell_type": "code",
   "execution_count": null,
   "id": "fb8fc3fd",
   "metadata": {},
   "outputs": [],
   "source": []
  },
  {
   "cell_type": "code",
   "execution_count": null,
   "id": "7d73145f",
   "metadata": {},
   "outputs": [],
   "source": []
  },
  {
   "cell_type": "code",
   "execution_count": null,
   "id": "4c7508db",
   "metadata": {},
   "outputs": [],
   "source": []
  }
 ],
 "metadata": {
  "kernelspec": {
   "display_name": "Python 3 (ipykernel)",
   "language": "python",
   "name": "python3"
  },
  "language_info": {
   "codemirror_mode": {
    "name": "ipython",
    "version": 3
   },
   "file_extension": ".py",
   "mimetype": "text/x-python",
   "name": "python",
   "nbconvert_exporter": "python",
   "pygments_lexer": "ipython3",
   "version": "3.9.13"
  }
 },
 "nbformat": 4,
 "nbformat_minor": 5
}
